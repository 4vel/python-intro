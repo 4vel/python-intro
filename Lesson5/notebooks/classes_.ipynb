{
 "cells": [
  {
   "cell_type": "markdown",
   "source": [
    "[![Open In Colab](https://colab.research.google.com/assets/colab-badge.svg)](https://colab.research.google.com/github/4vel/python-intro/blob/main/Lesson5/notebooks/classes_.ipynb)"
   ],
   "metadata": {
    "collapsed": false,
    "pycharm": {
     "name": "#%% md\n"
    }
   }
  },
  {
   "cell_type": "markdown",
   "source": [
    "# Классы\n",
    "Классы генерируют множество объектов экземпляров"
   ],
   "metadata": {
    "collapsed": false,
    "pycharm": {
     "name": "#%% md\n"
    }
   }
  },
  {
   "cell_type": "markdown",
   "source": [],
   "metadata": {
    "collapsed": false,
    "pycharm": {
     "name": "#%% md\n"
    }
   }
  },
  {
   "cell_type": "code",
   "execution_count": 1,
   "metadata": {
    "collapsed": true,
    "pycharm": {
     "name": "#%%\n"
    },
    "ExecuteTime": {
     "end_time": "2024-07-08T12:59:26.554203Z",
     "start_time": "2024-07-08T12:59:26.551567Z"
    }
   },
   "outputs": [],
   "source": [
    "# Создание класса\n",
    "class Book:\n",
    "    publisher = \"ПИТЕР\"\n",
    "\n",
    "    def __init__(self, ):\n",
    "        self.bookmark = 0\n",
    "        self.author = 'author'\n",
    "        self.title = 'title'"
   ]
  },
  {
   "cell_type": "code",
   "execution_count": 2,
   "outputs": [],
   "source": [
    "my_book = Book()"
   ],
   "metadata": {
    "collapsed": false,
    "pycharm": {
     "name": "#%%\n"
    },
    "ExecuteTime": {
     "end_time": "2024-07-08T12:59:27.018646Z",
     "start_time": "2024-07-08T12:59:27.004552Z"
    }
   }
  },
  {
   "cell_type": "code",
   "execution_count": 3,
   "outputs": [],
   "source": [
    "my_book.title = \"Изучаем Python том 1\""
   ],
   "metadata": {
    "collapsed": false,
    "pycharm": {
     "name": "#%%\n"
    },
    "ExecuteTime": {
     "end_time": "2024-07-08T12:59:28.085949Z",
     "start_time": "2024-07-08T12:59:28.070997Z"
    }
   }
  },
  {
   "cell_type": "code",
   "execution_count": 136,
   "outputs": [
    {
     "data": {
      "text/plain": "'Изучаем Python том 1'"
     },
     "execution_count": 136,
     "metadata": {},
     "output_type": "execute_result"
    }
   ],
   "source": [
    "my_book.title"
   ],
   "metadata": {
    "collapsed": false,
    "pycharm": {
     "name": "#%%\n"
    }
   }
  },
  {
   "cell_type": "code",
   "execution_count": 115,
   "outputs": [],
   "source": [
    "# Инициализация\n",
    "my_book = Book(\"Марк Лутц\",\"Изучаем Python том 1\")\n",
    "your_book = Book(\"Марк Лутц\", \"Изучаем Python том 2\")"
   ],
   "metadata": {
    "collapsed": false,
    "pycharm": {
     "name": "#%%\n"
    }
   }
  },
  {
   "cell_type": "code",
   "execution_count": 117,
   "outputs": [],
   "source": [
    "my_book.bookmark = 10"
   ],
   "metadata": {
    "collapsed": false,
    "pycharm": {
     "name": "#%%\n"
    }
   }
  },
  {
   "cell_type": "code",
   "execution_count": 118,
   "outputs": [
    {
     "data": {
      "text/plain": "10"
     },
     "execution_count": 118,
     "metadata": {},
     "output_type": "execute_result"
    }
   ],
   "source": [
    "my_book.bookmark"
   ],
   "metadata": {
    "collapsed": false,
    "pycharm": {
     "name": "#%%\n"
    }
   }
  },
  {
   "cell_type": "code",
   "execution_count": 113,
   "outputs": [
    {
     "data": {
      "text/plain": "'ПИТЕР'"
     },
     "execution_count": 113,
     "metadata": {},
     "output_type": "execute_result"
    }
   ],
   "source": [
    "my_book.publisher"
   ],
   "metadata": {
    "collapsed": false,
    "pycharm": {
     "name": "#%%\n"
    }
   }
  },
  {
   "cell_type": "code",
   "execution_count": 119,
   "outputs": [
    {
     "data": {
      "text/plain": "0"
     },
     "execution_count": 119,
     "metadata": {},
     "output_type": "execute_result"
    }
   ],
   "source": [
    "your_book.bookmark"
   ],
   "metadata": {
    "collapsed": false,
    "pycharm": {
     "name": "#%%\n"
    }
   }
  },
  {
   "cell_type": "code",
   "execution_count": 121,
   "outputs": [
    {
     "name": "stdout",
     "output_type": "stream",
     "text": [
      "Марк Лутц:Изучаем Python том 1\n",
      "Марк Лутц:Изучаем Python том 2\n"
     ]
    }
   ],
   "source": [
    "for book in [my_book, your_book]:\n",
    "    print(f\"{book.author}:{book.title}\")"
   ],
   "metadata": {
    "collapsed": false,
    "pycharm": {
     "name": "#%%\n"
    }
   }
  },
  {
   "cell_type": "code",
   "execution_count": 170,
   "outputs": [
    {
     "name": "stdout",
     "output_type": "stream",
     "text": [
      "Writing book.py\n"
     ]
    }
   ],
   "source": [
    "%%writefile book.py\n",
    "# Методы\n",
    "class Book:\n",
    "\n",
    "    def __init__(self, author, title):\n",
    "        self.author = author\n",
    "        self.title = title\n",
    "        self.bookmark = None\n",
    "\n",
    "    def set_bookmark(self, page_number):\n",
    "        print(f'Закладка установлена на странице {page_number}')\n",
    "        self.bookmark = page_number\n",
    "\n",
    "    def get_bookmark(self):\n",
    "        print(f'Закладка на странице {self.bookmark}')\n",
    "        return self.bookmark\n"
   ],
   "metadata": {
    "collapsed": false,
    "pycharm": {
     "name": "#%%\n"
    }
   }
  },
  {
   "cell_type": "code",
   "execution_count": 146,
   "outputs": [],
   "source": [
    "b = Book(\"Марк Лутц\",\"Изучаем Python том 1\")"
   ],
   "metadata": {
    "collapsed": false,
    "pycharm": {
     "name": "#%%\n"
    }
   }
  },
  {
   "cell_type": "code",
   "execution_count": 130,
   "outputs": [
    {
     "name": "stdout",
     "output_type": "stream",
     "text": [
      "Закладка установлена на странице 105\n"
     ]
    }
   ],
   "source": [
    "b.set_bookmark(105)"
   ],
   "metadata": {
    "collapsed": false,
    "pycharm": {
     "name": "#%%\n"
    }
   }
  },
  {
   "cell_type": "code",
   "execution_count": 131,
   "outputs": [
    {
     "name": "stdout",
     "output_type": "stream",
     "text": [
      "Закладка на странице 105\n"
     ]
    },
    {
     "data": {
      "text/plain": "105"
     },
     "execution_count": 131,
     "metadata": {},
     "output_type": "execute_result"
    }
   ],
   "source": [
    "b.get_bookmark()"
   ],
   "metadata": {
    "collapsed": false,
    "pycharm": {
     "name": "#%%\n"
    }
   }
  },
  {
   "cell_type": "code",
   "execution_count": 132,
   "outputs": [
    {
     "data": {
      "text/plain": "105"
     },
     "execution_count": 132,
     "metadata": {},
     "output_type": "execute_result"
    }
   ],
   "source": [
    "b.bookmark"
   ],
   "metadata": {
    "collapsed": false,
    "pycharm": {
     "name": "#%%\n"
    }
   }
  },
  {
   "cell_type": "code",
   "execution_count": 89,
   "outputs": [],
   "source": [
    "# Практика"
   ],
   "metadata": {
    "collapsed": false,
    "pycharm": {
     "name": "#%%\n"
    }
   }
  },
  {
   "cell_type": "code",
   "execution_count": null,
   "outputs": [],
   "source": [],
   "metadata": {
    "collapsed": false,
    "pycharm": {
     "name": "#%%\n"
    }
   }
  },
  {
   "cell_type": "markdown",
   "source": [
    "# 1. Создайте объект, который представляет собой книжную полку и продемонстрируйте ее работу\n",
    "* Книжная полка хранит объекты класса Book\n",
    "* У нее есть размер - количество книг, которое может в ней поместиться\n",
    "* Есть методы, которые позволяют положить книгу на полку и взять книгу с полки\n",
    "* Также есть метод, который показывает содержимое полки\n",
    "\n"
   ],
   "metadata": {
    "collapsed": false,
    "pycharm": {
     "name": "#%% md\n"
    }
   }
  },
  {
   "cell_type": "code",
   "execution_count": null,
   "outputs": [],
   "source": [],
   "metadata": {
    "collapsed": false,
    "pycharm": {
     "name": "#%%\n"
    }
   }
  },
  {
   "cell_type": "markdown",
   "source": [],
   "metadata": {
    "collapsed": false,
    "pycharm": {
     "name": "#%% md\n"
    }
   }
  },
  {
   "cell_type": "markdown",
   "source": [
    "\n",
    "# 2. Спортивное задание\n",
    "Создайте класс Атлет\n",
    "* У атлета есть имя и уровень крутости от 1 до 10\n",
    "* атлет должен уметь бегать, в зависимости от уровня он может преодолевать дистанцию быстрее\n",
    "\n",
    "Создайте класс Команда\n",
    "* У команды есть название и участники - атлеты\n",
    "\n",
    "Создайте класс Cоревнование\n",
    "* Соревнование позволяет запустить эстафету\n",
    "* Замерять общее бега время для всей команды\n",
    "* Выводить результаты по командам в виде таблицы или графика\n",
    "\n",
    "\n",
    "Создайте n команд, в которых у атлетов разные/случайные уровни крутости,\n",
    "и проведите эстафету"
   ],
   "metadata": {
    "collapsed": false,
    "pycharm": {
     "name": "#%% md\n"
    }
   }
  },
  {
   "cell_type": "code",
   "execution_count": null,
   "outputs": [],
   "source": [],
   "metadata": {
    "collapsed": false
   }
  }
 ],
 "metadata": {
  "kernelspec": {
   "display_name": "Python 3",
   "language": "python",
   "name": "python3"
  },
  "language_info": {
   "codemirror_mode": {
    "name": "ipython",
    "version": 2
   },
   "file_extension": ".py",
   "mimetype": "text/x-python",
   "name": "python",
   "nbconvert_exporter": "python",
   "pygments_lexer": "ipython2",
   "version": "2.7.6"
  }
 },
 "nbformat": 4,
 "nbformat_minor": 0
}
